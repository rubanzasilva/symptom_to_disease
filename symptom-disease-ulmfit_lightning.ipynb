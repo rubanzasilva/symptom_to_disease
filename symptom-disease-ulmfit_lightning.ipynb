{
 "cells": [
  {
   "cell_type": "markdown",
   "id": "3f889c53",
   "metadata": {
    "papermill": {
     "duration": 0.008586,
     "end_time": "2025-03-19T04:46:51.239394",
     "exception": false,
     "start_time": "2025-03-19T04:46:51.230808",
     "status": "completed"
    },
    "tags": []
   },
   "source": [
    "# Predictive model for differential diagnosis\n",
    "\n",
    "In this notebook, our goal is to develop a model that can take in a patient's symptoms as an input and return a list of the top 3 possible classes (diseases) alongside confidence values for each class expressed as probabilities.\n"
   ]
  },
  {
   "cell_type": "markdown",
   "id": "4ddcb66d",
   "metadata": {
    "papermill": {
     "duration": 0.007741,
     "end_time": "2025-03-19T04:46:51.255994",
     "exception": false,
     "start_time": "2025-03-19T04:46:51.248253",
     "status": "completed"
    },
    "tags": []
   },
   "source": [
    "## Library and Data import"
   ]
  },
  {
   "cell_type": "markdown",
   "id": "1e239b29",
   "metadata": {
    "papermill": {
     "duration": 0.007243,
     "end_time": "2025-03-19T04:46:51.270696",
     "exception": false,
     "start_time": "2025-03-19T04:46:51.263453",
     "status": "completed"
    },
    "tags": []
   },
   "source": [
    "**Date:** 2021-07-12  \n",
    "\n",
    "**Author:** \"Rubanza Silver - Flexible Functions AI Lab\""
   ]
  },
  {
   "cell_type": "code",
   "execution_count": 1,
   "id": "d8d4fed2",
   "metadata": {
    "_kg_hide-input": true,
    "_kg_hide-output": true,
    "execution": {
     "iopub.execute_input": "2025-03-19T04:46:51.324094Z",
     "iopub.status.busy": "2025-03-19T04:46:51.323458Z",
     "iopub.status.idle": "2025-03-19T04:47:49.192009Z",
     "shell.execute_reply": "2025-03-19T04:47:49.190681Z"
    },
    "papermill": {
     "duration": 57.880446,
     "end_time": "2025-03-19T04:47:49.195187",
     "exception": false,
     "start_time": "2025-03-19T04:46:51.314741",
     "status": "completed"
    },
    "scrolled": true,
    "tags": []
   },
   "outputs": [
    {
     "name": "stdout",
     "output_type": "stream",
     "text": [
      "Requirement already satisfied: seaborn in /system/conda/miniconda3/envs/cloudspace/lib/python3.10/site-packages (0.13.2)\n",
      "Requirement already satisfied: numpy!=1.24.0,>=1.20 in /system/conda/miniconda3/envs/cloudspace/lib/python3.10/site-packages (from seaborn) (1.26.4)\n",
      "Requirement already satisfied: pandas>=1.2 in /system/conda/miniconda3/envs/cloudspace/lib/python3.10/site-packages (from seaborn) (2.1.4)\n",
      "Requirement already satisfied: matplotlib!=3.6.1,>=3.4 in /system/conda/miniconda3/envs/cloudspace/lib/python3.10/site-packages (from seaborn) (3.8.2)\n",
      "Requirement already satisfied: contourpy>=1.0.1 in /system/conda/miniconda3/envs/cloudspace/lib/python3.10/site-packages (from matplotlib!=3.6.1,>=3.4->seaborn) (1.3.1)\n",
      "Requirement already satisfied: cycler>=0.10 in /system/conda/miniconda3/envs/cloudspace/lib/python3.10/site-packages (from matplotlib!=3.6.1,>=3.4->seaborn) (0.12.1)\n",
      "Requirement already satisfied: fonttools>=4.22.0 in /system/conda/miniconda3/envs/cloudspace/lib/python3.10/site-packages (from matplotlib!=3.6.1,>=3.4->seaborn) (4.56.0)\n",
      "Requirement already satisfied: kiwisolver>=1.3.1 in /system/conda/miniconda3/envs/cloudspace/lib/python3.10/site-packages (from matplotlib!=3.6.1,>=3.4->seaborn) (1.4.8)\n",
      "Requirement already satisfied: packaging>=20.0 in /system/conda/miniconda3/envs/cloudspace/lib/python3.10/site-packages (from matplotlib!=3.6.1,>=3.4->seaborn) (24.2)\n",
      "Requirement already satisfied: pillow>=8 in /system/conda/miniconda3/envs/cloudspace/lib/python3.10/site-packages (from matplotlib!=3.6.1,>=3.4->seaborn) (11.1.0)\n",
      "Requirement already satisfied: pyparsing>=2.3.1 in /system/conda/miniconda3/envs/cloudspace/lib/python3.10/site-packages (from matplotlib!=3.6.1,>=3.4->seaborn) (3.2.1)\n",
      "Requirement already satisfied: python-dateutil>=2.7 in /system/conda/miniconda3/envs/cloudspace/lib/python3.10/site-packages (from matplotlib!=3.6.1,>=3.4->seaborn) (2.9.0.post0)\n",
      "Requirement already satisfied: pytz>=2020.1 in /system/conda/miniconda3/envs/cloudspace/lib/python3.10/site-packages (from pandas>=1.2->seaborn) (2025.1)\n",
      "Requirement already satisfied: tzdata>=2022.1 in /system/conda/miniconda3/envs/cloudspace/lib/python3.10/site-packages (from pandas>=1.2->seaborn) (2025.1)\n",
      "Requirement already satisfied: six>=1.5 in /system/conda/miniconda3/envs/cloudspace/lib/python3.10/site-packages (from python-dateutil>=2.7->matplotlib!=3.6.1,>=3.4->seaborn) (1.17.0)\n",
      "Note: you may need to restart the kernel to use updated packages.\n",
      "Requirement already satisfied: fastkaggle in /system/conda/miniconda3/envs/cloudspace/lib/python3.10/site-packages (0.0.8)\n",
      "Requirement already satisfied: fastcore>=1.4.5 in /system/conda/miniconda3/envs/cloudspace/lib/python3.10/site-packages (from fastkaggle) (1.8.0)\n",
      "Requirement already satisfied: kaggle in /system/conda/miniconda3/envs/cloudspace/lib/python3.10/site-packages (from fastkaggle) (1.7.4.2)\n",
      "Requirement already satisfied: packaging in /system/conda/miniconda3/envs/cloudspace/lib/python3.10/site-packages (from fastcore>=1.4.5->fastkaggle) (24.2)\n",
      "Requirement already satisfied: bleach in /system/conda/miniconda3/envs/cloudspace/lib/python3.10/site-packages (from kaggle->fastkaggle) (6.2.0)\n",
      "Requirement already satisfied: certifi>=14.05.14 in /system/conda/miniconda3/envs/cloudspace/lib/python3.10/site-packages (from kaggle->fastkaggle) (2025.1.31)\n",
      "Requirement already satisfied: charset-normalizer in /system/conda/miniconda3/envs/cloudspace/lib/python3.10/site-packages (from kaggle->fastkaggle) (3.4.1)\n",
      "Requirement already satisfied: idna in /system/conda/miniconda3/envs/cloudspace/lib/python3.10/site-packages (from kaggle->fastkaggle) (3.10)\n",
      "Requirement already satisfied: protobuf in /system/conda/miniconda3/envs/cloudspace/lib/python3.10/site-packages (from kaggle->fastkaggle) (4.23.4)\n",
      "Requirement already satisfied: python-dateutil>=2.5.3 in /system/conda/miniconda3/envs/cloudspace/lib/python3.10/site-packages (from kaggle->fastkaggle) (2.9.0.post0)\n",
      "Requirement already satisfied: python-slugify in /system/conda/miniconda3/envs/cloudspace/lib/python3.10/site-packages (from kaggle->fastkaggle) (8.0.4)\n",
      "Requirement already satisfied: requests in /system/conda/miniconda3/envs/cloudspace/lib/python3.10/site-packages (from kaggle->fastkaggle) (2.32.3)\n",
      "Requirement already satisfied: setuptools>=21.0.0 in /system/conda/miniconda3/envs/cloudspace/lib/python3.10/site-packages (from kaggle->fastkaggle) (75.8.0)\n",
      "Requirement already satisfied: six>=1.10 in /system/conda/miniconda3/envs/cloudspace/lib/python3.10/site-packages (from kaggle->fastkaggle) (1.17.0)\n",
      "Requirement already satisfied: text-unidecode in /system/conda/miniconda3/envs/cloudspace/lib/python3.10/site-packages (from kaggle->fastkaggle) (1.3)\n",
      "Requirement already satisfied: tqdm in /system/conda/miniconda3/envs/cloudspace/lib/python3.10/site-packages (from kaggle->fastkaggle) (4.67.1)\n",
      "Requirement already satisfied: urllib3>=1.15.1 in /system/conda/miniconda3/envs/cloudspace/lib/python3.10/site-packages (from kaggle->fastkaggle) (2.3.0)\n",
      "Requirement already satisfied: webencodings in /system/conda/miniconda3/envs/cloudspace/lib/python3.10/site-packages (from kaggle->fastkaggle) (0.5.1)\n",
      "Note: you may need to restart the kernel to use updated packages.\n",
      "Note: you may need to restart the kernel to use updated packages.\n",
      "Requirement already satisfied: pip in /system/conda/miniconda3/envs/cloudspace/lib/python3.10/site-packages (25.0.1)\n",
      "Note: you may need to restart the kernel to use updated packages.\n",
      "Requirement already satisfied: tqdm in /system/conda/miniconda3/envs/cloudspace/lib/python3.10/site-packages (4.67.1)\n",
      "Note: you may need to restart the kernel to use updated packages.\n",
      "Requirement already satisfied: kagglehub in /system/conda/miniconda3/envs/cloudspace/lib/python3.10/site-packages (0.3.10)\n",
      "Requirement already satisfied: packaging in /system/conda/miniconda3/envs/cloudspace/lib/python3.10/site-packages (from kagglehub) (24.2)\n",
      "Requirement already satisfied: pyyaml in /system/conda/miniconda3/envs/cloudspace/lib/python3.10/site-packages (from kagglehub) (6.0.2)\n",
      "Requirement already satisfied: requests in /system/conda/miniconda3/envs/cloudspace/lib/python3.10/site-packages (from kagglehub) (2.32.3)\n",
      "Requirement already satisfied: tqdm in /system/conda/miniconda3/envs/cloudspace/lib/python3.10/site-packages (from kagglehub) (4.67.1)\n",
      "Requirement already satisfied: charset-normalizer<4,>=2 in /system/conda/miniconda3/envs/cloudspace/lib/python3.10/site-packages (from requests->kagglehub) (3.4.1)\n",
      "Requirement already satisfied: idna<4,>=2.5 in /system/conda/miniconda3/envs/cloudspace/lib/python3.10/site-packages (from requests->kagglehub) (3.10)\n",
      "Requirement already satisfied: urllib3<3,>=1.21.1 in /system/conda/miniconda3/envs/cloudspace/lib/python3.10/site-packages (from requests->kagglehub) (2.3.0)\n",
      "Requirement already satisfied: certifi>=2017.4.17 in /system/conda/miniconda3/envs/cloudspace/lib/python3.10/site-packages (from requests->kagglehub) (2025.1.31)\n",
      "Note: you may need to restart the kernel to use updated packages.\n"
     ]
    }
   ],
   "source": [
    "#|include: false \n",
    "\n",
    "%pip install seaborn\n",
    "%pip install fastkaggle\n",
    "%pip install -Uqq fastbook\n",
    "%pip install --upgrade pip\n",
    "%pip install tqdm\n",
    "%pip install kagglehub\n",
    "#%pip install catboost\n",
    "#%pip install optuna\n",
    "#%pip install optuna_distributed\n",
    "#%pip install openfe\n",
    "#%pip install xgboost\n",
    "#%pip install lightgbm\n",
    "#%pip install h2o\n",
    "#%pip install polars\n",
    "#%pip install -q -U autogluon.tabular\n",
    "#%pip install autogluon\n",
    "#%pip install wandb\n",
    "#%pip install sweetviz"
   ]
  },
  {
   "cell_type": "code",
   "execution_count": 2,
   "id": "832ccba2",
   "metadata": {
    "_kg_hide-input": true,
    "_kg_hide-output": true,
    "execution": {
     "iopub.execute_input": "2025-03-19T04:47:49.215426Z",
     "iopub.status.busy": "2025-03-19T04:47:49.214747Z",
     "iopub.status.idle": "2025-03-19T04:47:55.452961Z",
     "shell.execute_reply": "2025-03-19T04:47:55.452159Z"
    },
    "papermill": {
     "duration": 6.250503,
     "end_time": "2025-03-19T04:47:55.455373",
     "exception": false,
     "start_time": "2025-03-19T04:47:49.204870",
     "status": "completed"
    },
    "tags": []
   },
   "outputs": [],
   "source": [
    "#| code-fold: true\n",
    "#| output: false\n",
    "#| code-summary: \"Library Import\"\n",
    "\n",
    "import pandas as pd\n",
    "import matplotlib.pyplot as plt\n",
    "import seaborn as sns\n",
    "\n",
    "#import fastbook\n",
    "#fastbook.setup_book()\n",
    "#from fastbook import *\n",
    "from fastai.tabular.all import *\n",
    "import numpy as np\n",
    "from numpy import random\n",
    "from tqdm import tqdm\n",
    "from ipywidgets import interact\n",
    "from fastai.imports import *\n",
    "np.set_printoptions(linewidth=130)\n",
    "from fastai.text.all import *\n",
    "from pathlib import Path\n",
    "import os\n",
    "import warnings\n",
    "import gc\n",
    "import pickle\n",
    "from joblib import dump, load"
   ]
  },
  {
   "cell_type": "markdown",
   "id": "13535545",
   "metadata": {
    "papermill": {
     "duration": 0.008156,
     "end_time": "2025-03-19T04:47:55.472664",
     "exception": false,
     "start_time": "2025-03-19T04:47:55.464508",
     "status": "completed"
    },
    "tags": []
   },
   "source": [
    "# ULMFiT approach\n",
    "\n",
    "In traditional text transfer learning, We use a pre-trained model called a language model. The model we are also going to use in this example was initially trained on Wikipedia on the task of guessing the next word. We then fine-tuned this model for our disease classification task based on symptoms. We can then use this model for our task of disease classification.\n",
    "\n",
    "But the Wikipedia English might differ from medical jargon, so to further improve our model. We can employ a technique shown in the [ULMFIT Paper](https://arxiv.org/abs/1801.06146) by Jeremy Howard and Sebastian Ruder. They take the above a step further by fitting the pre-trained model on medical corpus and then using that as a base for our classifier. They noticed that adding this step of training the pretrained model on the task specific corpus gives better result as the model also has better context of the final task."
   ]
  },
  {
   "cell_type": "code",
   "execution_count": 3,
   "id": "69a63391",
   "metadata": {},
   "outputs": [
    {
     "name": "stdout",
     "output_type": "stream",
     "text": [
      "Path to dataset files: ('/teamspace/studios/this_studio/.cache/kagglehub/datasets/rubanzasilva/symptoms-disease-no-id/versions/1',)\n"
     ]
    }
   ],
   "source": [
    "import kagglehub\n",
    "\n",
    "my_specific_path = \"/data/\" \n",
    "\n",
    "# Download latest version\n",
    "path = kagglehub.dataset_download(\"rubanzasilva/symptoms-disease-no-id\"),\n",
    "output_path=my_specific_path\n",
    "\n",
    "print(\"Path to dataset files:\", path)"
   ]
  },
  {
   "cell_type": "code",
   "execution_count": 4,
   "id": "4a5107f9",
   "metadata": {},
   "outputs": [
    {
     "data": {
      "text/plain": [
       "Path('/teamspace/studios/this_studio/.cache/kagglehub/datasets/rubanzasilva/symptoms-disease-no-id/versions/1')"
      ]
     },
     "execution_count": 4,
     "metadata": {},
     "output_type": "execute_result"
    }
   ],
   "source": [
    "path = Path('/teamspace/studios/this_studio/.cache/kagglehub/datasets/rubanzasilva/symptoms-disease-no-id/versions/1')\n",
    "path"
   ]
  },
  {
   "cell_type": "code",
   "execution_count": 5,
   "id": "03bd2ce1",
   "metadata": {},
   "outputs": [
    {
     "name": "stdout",
     "output_type": "stream",
     "text": [
      "models\tsymptom_disease_no_id_col.csv  symptom_no_id.csv\n"
     ]
    }
   ],
   "source": [
    "!ls /teamspace/studios/this_studio/.cache/kagglehub/datasets/rubanzasilva/symptoms-disease-no-id/versions/1"
   ]
  },
  {
   "cell_type": "code",
   "execution_count": 6,
   "id": "d6be4e54",
   "metadata": {
    "execution": {
     "iopub.execute_input": "2025-03-19T04:47:56.665133Z",
     "iopub.status.busy": "2025-03-19T04:47:56.664411Z",
     "iopub.status.idle": "2025-03-19T04:47:56.727529Z",
     "shell.execute_reply": "2025-03-19T04:47:56.726416Z"
    },
    "papermill": {
     "duration": 0.075082,
     "end_time": "2025-03-19T04:47:56.729746",
     "exception": false,
     "start_time": "2025-03-19T04:47:56.654664",
     "status": "completed"
    },
    "tags": []
   },
   "outputs": [
    {
     "data": {
      "text/html": [
       "<div>\n",
       "<style scoped>\n",
       "    .dataframe tbody tr th:only-of-type {\n",
       "        vertical-align: middle;\n",
       "    }\n",
       "\n",
       "    .dataframe tbody tr th {\n",
       "        vertical-align: top;\n",
       "    }\n",
       "\n",
       "    .dataframe thead th {\n",
       "        text-align: right;\n",
       "    }\n",
       "</style>\n",
       "<table border=\"1\" class=\"dataframe\">\n",
       "  <thead>\n",
       "    <tr style=\"text-align: right;\">\n",
       "      <th></th>\n",
       "      <th>text</th>\n",
       "    </tr>\n",
       "  </thead>\n",
       "  <tbody>\n",
       "    <tr>\n",
       "      <th>0</th>\n",
       "      <td>I have been experiencing a skin rash on my arms, legs, and torso for the past few weeks. It is red, itchy, and covered in dry, scaly patches.</td>\n",
       "    </tr>\n",
       "    <tr>\n",
       "      <th>1</th>\n",
       "      <td>My skin has been peeling, especially on my knees, elbows, and scalp. This peeling is often accompanied by a burning or stinging sensation.</td>\n",
       "    </tr>\n",
       "    <tr>\n",
       "      <th>2</th>\n",
       "      <td>I have been experiencing joint pain in my fingers, wrists, and knees. The pain is often achy and throbbing, and it gets worse when I move my joints.</td>\n",
       "    </tr>\n",
       "    <tr>\n",
       "      <th>3</th>\n",
       "      <td>There is a silver like dusting on my skin, especially on my lower back and scalp. This dusting is made up of small scales that flake off easily when I scratch them.</td>\n",
       "    </tr>\n",
       "    <tr>\n",
       "      <th>4</th>\n",
       "      <td>My nails have small dents or pits in them, and they often feel inflammatory and tender to the touch. Even there are minor rashes on my arms.</td>\n",
       "    </tr>\n",
       "  </tbody>\n",
       "</table>\n",
       "</div>"
      ],
      "text/plain": [
       "                                                                                                                                                                   text\n",
       "0                         I have been experiencing a skin rash on my arms, legs, and torso for the past few weeks. It is red, itchy, and covered in dry, scaly patches.\n",
       "1                            My skin has been peeling, especially on my knees, elbows, and scalp. This peeling is often accompanied by a burning or stinging sensation.\n",
       "2                  I have been experiencing joint pain in my fingers, wrists, and knees. The pain is often achy and throbbing, and it gets worse when I move my joints.\n",
       "3  There is a silver like dusting on my skin, especially on my lower back and scalp. This dusting is made up of small scales that flake off easily when I scratch them.\n",
       "4                          My nails have small dents or pits in them, and they often feel inflammatory and tender to the touch. Even there are minor rashes on my arms."
      ]
     },
     "execution_count": 6,
     "metadata": {},
     "output_type": "execute_result"
    }
   ],
   "source": [
    "#symptom_df = pd.read_csv(path_lm/'symptom_synth.csv',index_col=0)\n",
    "symptom_df = pd.read_csv(path/'symptom_no_id.csv')\n",
    "sd_df = pd.read_csv(path/'symptom_disease_no_id_col.csv')\n",
    "symptom_df.head()"
   ]
  },
  {
   "cell_type": "code",
   "execution_count": 7,
   "id": "635a6d9c",
   "metadata": {
    "execution": {
     "iopub.execute_input": "2025-03-19T04:47:56.750300Z",
     "iopub.status.busy": "2025-03-19T04:47:56.749961Z",
     "iopub.status.idle": "2025-03-19T04:47:56.760715Z",
     "shell.execute_reply": "2025-03-19T04:47:56.759915Z"
    },
    "papermill": {
     "duration": 0.022698,
     "end_time": "2025-03-19T04:47:56.762536",
     "exception": false,
     "start_time": "2025-03-19T04:47:56.739838",
     "status": "completed"
    },
    "tags": []
   },
   "outputs": [
    {
     "data": {
      "text/plain": [
       "(1153, 1153)"
      ]
     },
     "execution_count": 7,
     "metadata": {},
     "output_type": "execute_result"
    }
   ],
   "source": [
    "symptom_df['text'].nunique(),sd_df['text'].nunique()"
   ]
  },
  {
   "cell_type": "markdown",
   "id": "1f84dfcc",
   "metadata": {
    "papermill": {
     "duration": 0.008679,
     "end_time": "2025-03-19T04:47:56.780050",
     "exception": false,
     "start_time": "2025-03-19T04:47:56.771371",
     "status": "completed"
    },
    "tags": []
   },
   "source": [
    "## Finetuning a language model with my medical corpus"
   ]
  },
  {
   "cell_type": "markdown",
   "id": "51ec63a8",
   "metadata": {
    "papermill": {
     "duration": 0.008063,
     "end_time": "2025-03-19T04:47:56.797335",
     "exception": false,
     "start_time": "2025-03-19T04:47:56.789272",
     "status": "completed"
    },
    "tags": []
   },
   "source": [
    "Below I define a DataLoader which is an extension of PyTorch's DataLoaders class, albeit with more functionality. This takes in our data, and prepares it as input for our model, passing it in batches etc.\n",
    "\n",
    "The DataLoaders Object allows us to build data objects we can use for training without specifically changing the raw input data.\n",
    "\n",
    "The dataloader then acts as input for our models. We also pass in valid_pct=0.2 which samples and uses 20% of our data for validation."
   ]
  },
  {
   "cell_type": "code",
   "execution_count": 8,
   "id": "61b7f316",
   "metadata": {
    "execution": {
     "iopub.execute_input": "2025-03-19T04:47:56.816403Z",
     "iopub.status.busy": "2025-03-19T04:47:56.816027Z",
     "iopub.status.idle": "2025-03-19T04:48:00.267325Z",
     "shell.execute_reply": "2025-03-19T04:48:00.266311Z"
    },
    "papermill": {
     "duration": 3.463704,
     "end_time": "2025-03-19T04:48:00.269703",
     "exception": false,
     "start_time": "2025-03-19T04:47:56.805999",
     "status": "completed"
    },
    "tags": []
   },
   "outputs": [
    {
     "data": {
      "text/html": [
       "\n",
       "<style>\n",
       "    /* Turns off some styling */\n",
       "    progress {\n",
       "        /* gets rid of default border in Firefox and Opera. */\n",
       "        border: none;\n",
       "        /* Needs to be in here for Safari polyfill so background images work as expected. */\n",
       "        background-size: auto;\n",
       "    }\n",
       "    progress:not([value]), progress:not([value])::-webkit-progress-bar {\n",
       "        background: repeating-linear-gradient(45deg, #7e7e7e, #7e7e7e 10px, #5c5c5c 10px, #5c5c5c 20px);\n",
       "    }\n",
       "    .progress-bar-interrupted, .progress-bar-interrupted::-webkit-progress-bar {\n",
       "        background: #F44336;\n",
       "    }\n",
       "</style>\n"
      ],
      "text/plain": [
       "<IPython.core.display.HTML object>"
      ]
     },
     "metadata": {},
     "output_type": "display_data"
    },
    {
     "data": {
      "text/html": [],
      "text/plain": [
       "<IPython.core.display.HTML object>"
      ]
     },
     "metadata": {},
     "output_type": "display_data"
    }
   ],
   "source": [
    "#dls_lm = TextDataLoaders.from_df(symptom_df, path=path, is_lm=True, valid_pct=0.2)\n",
    "dls_lm = TextDataLoaders.from_df(symptom_df, path=path, is_lm=True,text_col='text', valid_pct=0.2)\n",
    "#dls_lm = TextDataLoaders.from_folder(path=path_lm, is_lm=True, valid_pct=0.1)"
   ]
  },
  {
   "cell_type": "markdown",
   "id": "ddeb33e2",
   "metadata": {
    "papermill": {
     "duration": 0.0096,
     "end_time": "2025-03-19T04:48:00.289692",
     "exception": false,
     "start_time": "2025-03-19T04:48:00.280092",
     "status": "completed"
    },
    "tags": []
   },
   "source": [
    "We then use show_batch to have a look at some of our data.Since, we are guessing the next word in a sentence, you will notice that the targets have shifted one word to thr right in the *text_* column."
   ]
  },
  {
   "cell_type": "code",
   "execution_count": 9,
   "id": "034b2959",
   "metadata": {
    "execution": {
     "iopub.execute_input": "2025-03-19T04:48:00.309955Z",
     "iopub.status.busy": "2025-03-19T04:48:00.308833Z",
     "iopub.status.idle": "2025-03-19T04:48:00.463095Z",
     "shell.execute_reply": "2025-03-19T04:48:00.462155Z"
    },
    "papermill": {
     "duration": 0.167011,
     "end_time": "2025-03-19T04:48:00.465389",
     "exception": false,
     "start_time": "2025-03-19T04:48:00.298378",
     "status": "completed"
    },
    "tags": []
   },
   "outputs": [
    {
     "name": "stdout",
     "output_type": "stream",
     "text": [
      "xxbos i have been experiencing a skin rash on my arms , legs , and torso for the past few weeks . xxmaj it is red , itchy , and covered in dry , xxunk patches . xxbos xxmaj i 've been having a lot of trouble going to the bathroom lately . xxmaj it 's been really painful and xxmaj i 've been experiencing pain in my anus . xxmaj my\n",
      "there is a strong pain in my back and also behind my eyes . i have also noticed small red spots on my back and neck . xxbos i have a chronic dry cough . i have palpitations and my infections do n't appear to be getting better . i also have a painful throat xxunk , xxunk it does seem to go away . xxbos xxmaj recently , my muscles have\n",
      "a lot of problems with my bowel motions recently . xxmaj it 's difficult to go , and it hurts when i do . xxmaj my anus is quite painful , and it has been bleeding whenever i go . xxmaj it 's excruciatingly painful , and xxmaj i 'm quite uneasy . xxbos xxmaj i 'm not in the mood to eat , and swallowing is difficult . i often have\n",
      "xxunk . i lack energy , appetite , and frequently feel really exhausted . xxbos xxmaj in xxunk to frequent headaches and blurred vision , increased appetite , a stiff neck , anxiety , irritability , and visual disturbance , i have been having stomach problems , including indigestion and acidity . xxbos xxmaj i 've been really xxunk and ill . xxmaj i 've been suffering from a severe cough and\n",
      "i 'm feeling rather ill . xxbos i have developed rashes on my body that are itchy and . i have lost my appetite and feel very tired all day . i feel something is wrong with my body . xxbos i have a tendency to burp and belch regularly . i often get chest discomfort that radiates to my arm , jaw , and neck . xxmaj my chest feels tight\n",
      "i have been experiencing a skin rash on my arms , legs , and torso for the past few weeks . xxmaj it is red , itchy , and covered in dry , xxunk patches . xxbos xxmaj i 've been having a lot of trouble going to the bathroom lately . xxmaj it 's been really painful and xxmaj i 've been experiencing pain in my anus . xxmaj my stool\n",
      "is a strong pain in my back and also behind my eyes . i have also noticed small red spots on my back and neck . xxbos i have a chronic dry cough . i have palpitations and my infections do n't appear to be getting better . i also have a painful throat xxunk , xxunk it does seem to go away . xxbos xxmaj recently , my muscles have felt\n",
      "lot of problems with my bowel motions recently . xxmaj it 's difficult to go , and it hurts when i do . xxmaj my anus is quite painful , and it has been bleeding whenever i go . xxmaj it 's excruciatingly painful , and xxmaj i 'm quite uneasy . xxbos xxmaj i 'm not in the mood to eat , and swallowing is difficult . i often have this\n",
      ". i lack energy , appetite , and frequently feel really exhausted . xxbos xxmaj in xxunk to frequent headaches and blurred vision , increased appetite , a stiff neck , anxiety , irritability , and visual disturbance , i have been having stomach problems , including indigestion and acidity . xxbos xxmaj i 've been really xxunk and ill . xxmaj i 've been suffering from a severe cough and sore\n",
      "'m feeling rather ill . xxbos i have developed rashes on my body that are itchy and . i have lost my appetite and feel very tired all day . i feel something is wrong with my body . xxbos i have a tendency to burp and belch regularly . i often get chest discomfort that radiates to my arm , jaw , and neck . xxmaj my chest feels tight and\n"
     ]
    }
   ],
   "source": [
    "dls_lm.show_batch(max_n=5)"
   ]
  },
  {
   "cell_type": "markdown",
   "id": "c45e8d76",
   "metadata": {
    "papermill": {
     "duration": 0.009877,
     "end_time": "2025-03-19T04:48:00.486060",
     "exception": false,
     "start_time": "2025-03-19T04:48:00.476183",
     "status": "completed"
    },
    "tags": []
   },
   "source": [
    "From the above, we notice that the texts were processed and split into tokens. It adds some special tokens like xxbos to indicate the beginning of a text and xxmaj to indicate the next word was capitalised.\n",
    "\n",
    "We then define a fastai [learner](https://docs.fast.ai/learner.html#learner), which is a fastai class that we can use to handle the training loop. It bundles the essential components needed for training together such as the data, model, the dataloaders, loss functions\n",
    "\n",
    "We use the AWD LSTM architecture. We are also going to use accuracy and perplexity (the Exponential of the loss) as our metrics for this example. Furthermore, we also set a weight decay (wd) of 0.1 and apply mixed precision (.to_fp16()) to the learner, which speeds up training on GPU'S with tensor cores.\n"
   ]
  },
  {
   "cell_type": "code",
   "execution_count": 10,
   "id": "2b35d5ca",
   "metadata": {
    "execution": {
     "iopub.execute_input": "2025-03-19T04:48:00.507104Z",
     "iopub.status.busy": "2025-03-19T04:48:00.506259Z",
     "iopub.status.idle": "2025-03-19T04:48:07.089232Z",
     "shell.execute_reply": "2025-03-19T04:48:07.088393Z"
    },
    "papermill": {
     "duration": 6.596158,
     "end_time": "2025-03-19T04:48:07.091560",
     "exception": false,
     "start_time": "2025-03-19T04:48:00.495402",
     "status": "completed"
    },
    "tags": []
   },
   "outputs": [],
   "source": [
    "learn = language_model_learner(dls_lm, AWD_LSTM, metrics=[accuracy, Perplexity()], path=path, wd=0.1).to_fp16()"
   ]
  },
  {
   "cell_type": "markdown",
   "id": "787859f1",
   "metadata": {
    "papermill": {
     "duration": 0.0101,
     "end_time": "2025-03-19T04:48:07.111819",
     "exception": false,
     "start_time": "2025-03-19T04:48:07.101719",
     "status": "completed"
    },
    "tags": []
   },
   "source": [
    "#### Phased Finetuning\n",
    "\n",
    "A pre-trained model is one that has already been trained on a large dataset and has learnt general patterns and features in a dataset, which can then be used to fine-tune to a specific task. \n",
    "\n",
    "By default, the body of the model is frozen, meaning we won’t be updating the parameters of the body during training. For this case, only the head (first few layers) of the model will train."
   ]
  },
  {
   "cell_type": "code",
   "execution_count": 11,
   "id": "a3fd8875",
   "metadata": {
    "execution": {
     "iopub.execute_input": "2025-03-19T04:48:07.133795Z",
     "iopub.status.busy": "2025-03-19T04:48:07.132772Z",
     "iopub.status.idle": "2025-03-19T04:48:09.927839Z",
     "shell.execute_reply": "2025-03-19T04:48:09.926724Z"
    },
    "papermill": {
     "duration": 2.808261,
     "end_time": "2025-03-19T04:48:09.929938",
     "exception": false,
     "start_time": "2025-03-19T04:48:07.121677",
     "status": "completed"
    },
    "tags": []
   },
   "outputs": [
    {
     "data": {
      "text/html": [
       "\n",
       "<style>\n",
       "    /* Turns off some styling */\n",
       "    progress {\n",
       "        /* gets rid of default border in Firefox and Opera. */\n",
       "        border: none;\n",
       "        /* Needs to be in here for Safari polyfill so background images work as expected. */\n",
       "        background-size: auto;\n",
       "    }\n",
       "    progress:not([value]), progress:not([value])::-webkit-progress-bar {\n",
       "        background: repeating-linear-gradient(45deg, #7e7e7e, #7e7e7e 10px, #5c5c5c 10px, #5c5c5c 20px);\n",
       "    }\n",
       "    .progress-bar-interrupted, .progress-bar-interrupted::-webkit-progress-bar {\n",
       "        background: #F44336;\n",
       "    }\n",
       "</style>\n"
      ],
      "text/plain": [
       "<IPython.core.display.HTML object>"
      ]
     },
     "metadata": {},
     "output_type": "display_data"
    },
    {
     "data": {
      "text/html": [
       "<table border=\"1\" class=\"dataframe\">\n",
       "  <thead>\n",
       "    <tr style=\"text-align: left;\">\n",
       "      <th>epoch</th>\n",
       "      <th>train_loss</th>\n",
       "      <th>valid_loss</th>\n",
       "      <th>accuracy</th>\n",
       "      <th>perplexity</th>\n",
       "      <th>time</th>\n",
       "    </tr>\n",
       "  </thead>\n",
       "  <tbody>\n",
       "    <tr>\n",
       "      <td>0</td>\n",
       "      <td>4.302689</td>\n",
       "      <td>3.632804</td>\n",
       "      <td>0.342332</td>\n",
       "      <td>37.818718</td>\n",
       "      <td>00:02</td>\n",
       "    </tr>\n",
       "  </tbody>\n",
       "</table>"
      ],
      "text/plain": [
       "<IPython.core.display.HTML object>"
      ]
     },
     "metadata": {},
     "output_type": "display_data"
    }
   ],
   "source": [
    "#| error: false\n",
    "learn.fit_one_cycle(1, 1e-2)"
   ]
  },
  {
   "cell_type": "markdown",
   "id": "0d81265f",
   "metadata": {
    "papermill": {
     "duration": 0.009742,
     "end_time": "2025-03-19T04:48:09.949762",
     "exception": false,
     "start_time": "2025-03-19T04:48:09.940020",
     "status": "completed"
    },
    "tags": []
   },
   "source": [
    "As shown below, we can use the *learn.save* to save the state of our model to a file in learn.path/models/ named “filename.pth”. You can use learn.load('filename') to load the content of this file."
   ]
  },
  {
   "cell_type": "code",
   "execution_count": 12,
   "id": "bcb1835b",
   "metadata": {},
   "outputs": [
    {
     "data": {
      "text/plain": [
       "Path('/teamspace/studios/this_studio/.cache/kagglehub/datasets/rubanzasilva/symptoms-disease-no-id/versions/1/models/1epoch.pth')"
      ]
     },
     "execution_count": 12,
     "metadata": {},
     "output_type": "execute_result"
    }
   ],
   "source": [
    "# Now save the model\n",
    "learn.save('1epoch')"
   ]
  },
  {
   "cell_type": "code",
   "execution_count": 13,
   "id": "c9616a3d",
   "metadata": {
    "execution": {
     "iopub.execute_input": "2025-03-19T04:48:10.157653Z",
     "iopub.status.busy": "2025-03-19T04:48:10.157277Z",
     "iopub.status.idle": "2025-03-19T04:48:10.212255Z",
     "shell.execute_reply": "2025-03-19T04:48:10.211253Z"
    },
    "papermill": {
     "duration": 0.06808,
     "end_time": "2025-03-19T04:48:10.214130",
     "exception": false,
     "start_time": "2025-03-19T04:48:10.146050",
     "status": "completed"
    },
    "tags": []
   },
   "outputs": [],
   "source": [
    "#| error: false\n",
    "learn = learn.load('1epoch')"
   ]
  },
  {
   "cell_type": "markdown",
   "id": "4c792610",
   "metadata": {
    "papermill": {
     "duration": 0.009932,
     "end_time": "2025-03-19T04:48:10.234320",
     "exception": false,
     "start_time": "2025-03-19T04:48:10.224388",
     "status": "completed"
    },
    "tags": []
   },
   "source": [
    "After training the head of the model, we unfreeze the rest of the body and finetune it alongside the head, except for our final layer, which converts activations into probabilities of picking each token in our vocabulary."
   ]
  },
  {
   "cell_type": "code",
   "execution_count": 14,
   "id": "de155417",
   "metadata": {
    "execution": {
     "iopub.execute_input": "2025-03-19T04:48:10.256549Z",
     "iopub.status.busy": "2025-03-19T04:48:10.255601Z",
     "iopub.status.idle": "2025-03-19T04:48:21.116687Z",
     "shell.execute_reply": "2025-03-19T04:48:21.115847Z"
    },
    "papermill": {
     "duration": 10.87435,
     "end_time": "2025-03-19T04:48:21.118500",
     "exception": false,
     "start_time": "2025-03-19T04:48:10.244150",
     "status": "completed"
    },
    "tags": []
   },
   "outputs": [
    {
     "data": {
      "text/html": [
       "\n",
       "<style>\n",
       "    /* Turns off some styling */\n",
       "    progress {\n",
       "        /* gets rid of default border in Firefox and Opera. */\n",
       "        border: none;\n",
       "        /* Needs to be in here for Safari polyfill so background images work as expected. */\n",
       "        background-size: auto;\n",
       "    }\n",
       "    progress:not([value]), progress:not([value])::-webkit-progress-bar {\n",
       "        background: repeating-linear-gradient(45deg, #7e7e7e, #7e7e7e 10px, #5c5c5c 10px, #5c5c5c 20px);\n",
       "    }\n",
       "    .progress-bar-interrupted, .progress-bar-interrupted::-webkit-progress-bar {\n",
       "        background: #F44336;\n",
       "    }\n",
       "</style>\n"
      ],
      "text/plain": [
       "<IPython.core.display.HTML object>"
      ]
     },
     "metadata": {},
     "output_type": "display_data"
    },
    {
     "data": {
      "text/html": [
       "<table border=\"1\" class=\"dataframe\">\n",
       "  <thead>\n",
       "    <tr style=\"text-align: left;\">\n",
       "      <th>epoch</th>\n",
       "      <th>train_loss</th>\n",
       "      <th>valid_loss</th>\n",
       "      <th>accuracy</th>\n",
       "      <th>perplexity</th>\n",
       "      <th>time</th>\n",
       "    </tr>\n",
       "  </thead>\n",
       "  <tbody>\n",
       "    <tr>\n",
       "      <td>0</td>\n",
       "      <td>3.587642</td>\n",
       "      <td>2.953272</td>\n",
       "      <td>0.398495</td>\n",
       "      <td>19.168573</td>\n",
       "      <td>00:01</td>\n",
       "    </tr>\n",
       "    <tr>\n",
       "      <td>1</td>\n",
       "      <td>3.262225</td>\n",
       "      <td>2.604236</td>\n",
       "      <td>0.434433</td>\n",
       "      <td>13.520896</td>\n",
       "      <td>00:01</td>\n",
       "    </tr>\n",
       "    <tr>\n",
       "      <td>2</td>\n",
       "      <td>3.005299</td>\n",
       "      <td>2.404017</td>\n",
       "      <td>0.464337</td>\n",
       "      <td>11.067551</td>\n",
       "      <td>00:01</td>\n",
       "    </tr>\n",
       "    <tr>\n",
       "      <td>3</td>\n",
       "      <td>2.831740</td>\n",
       "      <td>2.315215</td>\n",
       "      <td>0.482234</td>\n",
       "      <td>10.127099</td>\n",
       "      <td>00:01</td>\n",
       "    </tr>\n",
       "    <tr>\n",
       "      <td>4</td>\n",
       "      <td>2.708957</td>\n",
       "      <td>2.295945</td>\n",
       "      <td>0.486777</td>\n",
       "      <td>9.933821</td>\n",
       "      <td>00:01</td>\n",
       "    </tr>\n",
       "  </tbody>\n",
       "</table>"
      ],
      "text/plain": [
       "<IPython.core.display.HTML object>"
      ]
     },
     "metadata": {},
     "output_type": "display_data"
    }
   ],
   "source": [
    "#| error: false\n",
    "learn.unfreeze()\n",
    "learn.fit_one_cycle(5, 1e-3)"
   ]
  },
  {
   "cell_type": "markdown",
   "id": "a4fa2737",
   "metadata": {
    "papermill": {
     "duration": 0.010488,
     "end_time": "2025-03-19T04:48:21.140135",
     "exception": false,
     "start_time": "2025-03-19T04:48:21.129647",
     "status": "completed"
    },
    "tags": []
   },
   "source": [
    "The model not including the final layers is called an encoder. We use fastai's *save_encoder* to save it as shown below."
   ]
  },
  {
   "cell_type": "code",
   "execution_count": 15,
   "id": "4451cc3e",
   "metadata": {
    "execution": {
     "iopub.execute_input": "2025-03-19T04:48:21.162940Z",
     "iopub.status.busy": "2025-03-19T04:48:21.162568Z",
     "iopub.status.idle": "2025-03-19T04:48:21.286094Z",
     "shell.execute_reply": "2025-03-19T04:48:21.285308Z"
    },
    "papermill": {
     "duration": 0.137549,
     "end_time": "2025-03-19T04:48:21.288268",
     "exception": false,
     "start_time": "2025-03-19T04:48:21.150719",
     "status": "completed"
    },
    "tags": []
   },
   "outputs": [],
   "source": [
    "#| code-fold: show\n",
    "#| output: false\n",
    "#| code-summary: \"Save the model\"\n",
    "# Now save the model\n",
    "learn.save_encoder('finetuned')"
   ]
  },
  {
   "cell_type": "markdown",
   "id": "939fdaf0",
   "metadata": {
    "papermill": {
     "duration": 0.010141,
     "end_time": "2025-03-19T04:48:21.308701",
     "exception": false,
     "start_time": "2025-03-19T04:48:21.298560",
     "status": "completed"
    },
    "tags": []
   },
   "source": [
    "Now, that our model has been trained to guess or generate the next word in a sentence, we can use it to create or generate new user inputs that start with the below user input text."
   ]
  },
  {
   "cell_type": "code",
   "execution_count": 16,
   "id": "9b372b07",
   "metadata": {
    "_kg_hide-output": true,
    "execution": {
     "iopub.execute_input": "2025-03-19T04:48:21.331374Z",
     "iopub.status.busy": "2025-03-19T04:48:21.330502Z",
     "iopub.status.idle": "2025-03-19T04:48:22.239594Z",
     "shell.execute_reply": "2025-03-19T04:48:22.238736Z"
    },
    "papermill": {
     "duration": 0.922662,
     "end_time": "2025-03-19T04:48:22.241612",
     "exception": false,
     "start_time": "2025-03-19T04:48:21.318950",
     "status": "completed"
    },
    "scrolled": true,
    "tags": []
   },
   "outputs": [
    {
     "data": {
      "text/html": [
       "\n",
       "<style>\n",
       "    /* Turns off some styling */\n",
       "    progress {\n",
       "        /* gets rid of default border in Firefox and Opera. */\n",
       "        border: none;\n",
       "        /* Needs to be in here for Safari polyfill so background images work as expected. */\n",
       "        background-size: auto;\n",
       "    }\n",
       "    progress:not([value]), progress:not([value])::-webkit-progress-bar {\n",
       "        background: repeating-linear-gradient(45deg, #7e7e7e, #7e7e7e 10px, #5c5c5c 10px, #5c5c5c 20px);\n",
       "    }\n",
       "    .progress-bar-interrupted, .progress-bar-interrupted::-webkit-progress-bar {\n",
       "        background: #F44336;\n",
       "    }\n",
       "</style>\n"
      ],
      "text/plain": [
       "<IPython.core.display.HTML object>"
      ]
     },
     "metadata": {},
     "output_type": "display_data"
    },
    {
     "data": {
      "text/html": [],
      "text/plain": [
       "<IPython.core.display.HTML object>"
      ]
     },
     "metadata": {},
     "output_type": "display_data"
    },
    {
     "data": {
      "text/html": [
       "\n",
       "<style>\n",
       "    /* Turns off some styling */\n",
       "    progress {\n",
       "        /* gets rid of default border in Firefox and Opera. */\n",
       "        border: none;\n",
       "        /* Needs to be in here for Safari polyfill so background images work as expected. */\n",
       "        background-size: auto;\n",
       "    }\n",
       "    progress:not([value]), progress:not([value])::-webkit-progress-bar {\n",
       "        background: repeating-linear-gradient(45deg, #7e7e7e, #7e7e7e 10px, #5c5c5c 10px, #5c5c5c 20px);\n",
       "    }\n",
       "    .progress-bar-interrupted, .progress-bar-interrupted::-webkit-progress-bar {\n",
       "        background: #F44336;\n",
       "    }\n",
       "</style>\n"
      ],
      "text/plain": [
       "<IPython.core.display.HTML object>"
      ]
     },
     "metadata": {},
     "output_type": "display_data"
    },
    {
     "data": {
      "text/html": [],
      "text/plain": [
       "<IPython.core.display.HTML object>"
      ]
     },
     "metadata": {},
     "output_type": "display_data"
    }
   ],
   "source": [
    "#| output: false\n",
    "#| error: false\n",
    "TEXT = \"I have running nose, stomach and joint pains\"\n",
    "N_WORDS = 40\n",
    "N_SENTENCES = 2\n",
    "preds = [learn.predict(TEXT, N_WORDS, temperature=0.75) \n",
    "         for _ in range(N_SENTENCES)]"
   ]
  },
  {
   "cell_type": "code",
   "execution_count": 17,
   "id": "71df7b0d",
   "metadata": {
    "execution": {
     "iopub.execute_input": "2025-03-19T04:48:22.270085Z",
     "iopub.status.busy": "2025-03-19T04:48:22.269680Z",
     "iopub.status.idle": "2025-03-19T04:48:22.275013Z",
     "shell.execute_reply": "2025-03-19T04:48:22.273941Z"
    },
    "papermill": {
     "duration": 0.021724,
     "end_time": "2025-03-19T04:48:22.277293",
     "exception": false,
     "start_time": "2025-03-19T04:48:22.255569",
     "status": "completed"
    },
    "tags": []
   },
   "outputs": [
    {
     "name": "stdout",
     "output_type": "stream",
     "text": [
      "i have running nose , stomach and joint pains . My skin is red , and my skin has been really weird . I radiates a lot of diarrhea and suddenly developed a rash on my face . I mucous . It 's been\n",
      "i have running nose , stomach and joint pains . My eyes become yellow and I brain sweating . I 've had a high fever , a high fever , and intense fever . I 've been experiencing a lot of back pain\n"
     ]
    }
   ],
   "source": [
    "print(\"\\n\".join(preds))"
   ]
  },
  {
   "cell_type": "markdown",
   "id": "5a7144e0",
   "metadata": {
    "papermill": {
     "duration": 0.013121,
     "end_time": "2025-03-19T04:48:22.304350",
     "exception": false,
     "start_time": "2025-03-19T04:48:22.291229",
     "status": "completed"
    },
    "tags": []
   },
   "source": [
    "## Training a text classifier\n",
    "\n",
    "We now gather and pass in data to train our text classifier."
   ]
  },
  {
   "cell_type": "code",
   "execution_count": 18,
   "id": "8f647b7e",
   "metadata": {
    "execution": {
     "iopub.execute_input": "2025-03-19T04:48:22.334374Z",
     "iopub.status.busy": "2025-03-19T04:48:22.333432Z",
     "iopub.status.idle": "2025-03-19T04:48:22.344327Z",
     "shell.execute_reply": "2025-03-19T04:48:22.343320Z"
    },
    "papermill": {
     "duration": 0.027705,
     "end_time": "2025-03-19T04:48:22.346193",
     "exception": false,
     "start_time": "2025-03-19T04:48:22.318488",
     "status": "completed"
    },
    "tags": []
   },
   "outputs": [
    {
     "data": {
      "text/html": [
       "<div>\n",
       "<style scoped>\n",
       "    .dataframe tbody tr th:only-of-type {\n",
       "        vertical-align: middle;\n",
       "    }\n",
       "\n",
       "    .dataframe tbody tr th {\n",
       "        vertical-align: top;\n",
       "    }\n",
       "\n",
       "    .dataframe thead th {\n",
       "        text-align: right;\n",
       "    }\n",
       "</style>\n",
       "<table border=\"1\" class=\"dataframe\">\n",
       "  <thead>\n",
       "    <tr style=\"text-align: right;\">\n",
       "      <th></th>\n",
       "      <th>label</th>\n",
       "      <th>text</th>\n",
       "    </tr>\n",
       "  </thead>\n",
       "  <tbody>\n",
       "    <tr>\n",
       "      <th>0</th>\n",
       "      <td>Psoriasis</td>\n",
       "      <td>I have been experiencing a skin rash on my arms, legs, and torso for the past few weeks. It is red, itchy, and covered in dry, scaly patches.</td>\n",
       "    </tr>\n",
       "    <tr>\n",
       "      <th>1</th>\n",
       "      <td>Psoriasis</td>\n",
       "      <td>My skin has been peeling, especially on my knees, elbows, and scalp. This peeling is often accompanied by a burning or stinging sensation.</td>\n",
       "    </tr>\n",
       "    <tr>\n",
       "      <th>2</th>\n",
       "      <td>Psoriasis</td>\n",
       "      <td>I have been experiencing joint pain in my fingers, wrists, and knees. The pain is often achy and throbbing, and it gets worse when I move my joints.</td>\n",
       "    </tr>\n",
       "    <tr>\n",
       "      <th>3</th>\n",
       "      <td>Psoriasis</td>\n",
       "      <td>There is a silver like dusting on my skin, especially on my lower back and scalp. This dusting is made up of small scales that flake off easily when I scratch them.</td>\n",
       "    </tr>\n",
       "    <tr>\n",
       "      <th>4</th>\n",
       "      <td>Psoriasis</td>\n",
       "      <td>My nails have small dents or pits in them, and they often feel inflammatory and tender to the touch. Even there are minor rashes on my arms.</td>\n",
       "    </tr>\n",
       "  </tbody>\n",
       "</table>\n",
       "</div>"
      ],
      "text/plain": [
       "       label  \\\n",
       "0  Psoriasis   \n",
       "1  Psoriasis   \n",
       "2  Psoriasis   \n",
       "3  Psoriasis   \n",
       "4  Psoriasis   \n",
       "\n",
       "                                                                                                                                                                   text  \n",
       "0                         I have been experiencing a skin rash on my arms, legs, and torso for the past few weeks. It is red, itchy, and covered in dry, scaly patches.  \n",
       "1                            My skin has been peeling, especially on my knees, elbows, and scalp. This peeling is often accompanied by a burning or stinging sensation.  \n",
       "2                  I have been experiencing joint pain in my fingers, wrists, and knees. The pain is often achy and throbbing, and it gets worse when I move my joints.  \n",
       "3  There is a silver like dusting on my skin, especially on my lower back and scalp. This dusting is made up of small scales that flake off easily when I scratch them.  \n",
       "4                          My nails have small dents or pits in them, and they often feel inflammatory and tender to the touch. Even there are minor rashes on my arms.  "
      ]
     },
     "execution_count": 18,
     "metadata": {},
     "output_type": "execute_result"
    }
   ],
   "source": [
    "#symptom_df = pd.read_csv(path_lm/'symptom_synth.csv',index_col=0)\n",
    "#sd_df = pd.read_csv(path_lm/'symptom_disease_no_id_col.csv')\n",
    "sd_df.head()"
   ]
  },
  {
   "cell_type": "code",
   "execution_count": 19,
   "id": "6b7e70c9",
   "metadata": {
    "execution": {
     "iopub.execute_input": "2025-03-19T04:48:22.376383Z",
     "iopub.status.busy": "2025-03-19T04:48:22.375474Z",
     "iopub.status.idle": "2025-03-19T04:48:22.382180Z",
     "shell.execute_reply": "2025-03-19T04:48:22.381070Z"
    },
    "papermill": {
     "duration": 0.023474,
     "end_time": "2025-03-19T04:48:22.384079",
     "exception": false,
     "start_time": "2025-03-19T04:48:22.360605",
     "status": "completed"
    },
    "tags": []
   },
   "outputs": [
    {
     "name": "stdout",
     "output_type": "stream",
     "text": [
      "0\n"
     ]
    }
   ],
   "source": [
    "# Check for NaN values in the label column\n",
    "print(sd_df['label'].isna().sum())\n",
    "\n",
    "# If there are NaNs, you can drop those rows\n",
    "#df = df.dropna(subset=['label'])"
   ]
  },
  {
   "cell_type": "code",
   "execution_count": 20,
   "id": "d335517b",
   "metadata": {
    "execution": {
     "iopub.execute_input": "2025-03-19T04:48:22.415293Z",
     "iopub.status.busy": "2025-03-19T04:48:22.414421Z",
     "iopub.status.idle": "2025-03-19T04:48:23.182855Z",
     "shell.execute_reply": "2025-03-19T04:48:23.181795Z"
    },
    "papermill": {
     "duration": 0.785442,
     "end_time": "2025-03-19T04:48:23.184963",
     "exception": false,
     "start_time": "2025-03-19T04:48:22.399521",
     "status": "completed"
    },
    "tags": []
   },
   "outputs": [
    {
     "data": {
      "text/html": [
       "\n",
       "<style>\n",
       "    /* Turns off some styling */\n",
       "    progress {\n",
       "        /* gets rid of default border in Firefox and Opera. */\n",
       "        border: none;\n",
       "        /* Needs to be in here for Safari polyfill so background images work as expected. */\n",
       "        background-size: auto;\n",
       "    }\n",
       "    progress:not([value]), progress:not([value])::-webkit-progress-bar {\n",
       "        background: repeating-linear-gradient(45deg, #7e7e7e, #7e7e7e 10px, #5c5c5c 10px, #5c5c5c 20px);\n",
       "    }\n",
       "    .progress-bar-interrupted, .progress-bar-interrupted::-webkit-progress-bar {\n",
       "        background: #F44336;\n",
       "    }\n",
       "</style>\n"
      ],
      "text/plain": [
       "<IPython.core.display.HTML object>"
      ]
     },
     "metadata": {},
     "output_type": "display_data"
    },
    {
     "data": {
      "text/html": [],
      "text/plain": [
       "<IPython.core.display.HTML object>"
      ]
     },
     "metadata": {},
     "output_type": "display_data"
    }
   ],
   "source": [
    "#| output: false\n",
    "#| error: false\n",
    "#dls_clas = TextDataLoaders.from_df(sd_df, path=path,valid='test', text_vocab=dls_lm.vocab)\n",
    "dls_clas = TextDataLoaders.from_df(sd_df, path=path,valid='test',text_col='text',label_col='label', text_vocab=dls_lm.vocab)"
   ]
  },
  {
   "cell_type": "markdown",
   "id": "ba9a59ad",
   "metadata": {
    "papermill": {
     "duration": 0.013363,
     "end_time": "2025-03-19T04:48:23.212108",
     "exception": false,
     "start_time": "2025-03-19T04:48:23.198745",
     "status": "completed"
    },
    "tags": []
   },
   "source": [
    "Passing in *text_vocab=dls_lm.vocab* passes in our previously defined vocabulary to our classifier. \n",
    "\n",
    "> To quote the fastai documentation, we have to use the exact same vocabulary as when we were fine-tuning our language model, or the weights learned won’t make any sense.\n",
    "\n",
    "When you train a language model, it learns to associate specific patterns of numbers (weights) with specific tokens (words or subwords) in your vocabulary. \n",
    "\n",
    "Each token is assigned a unique index in the vocabulary, and the model's internal representations (the weights in the embedding layers and beyond) are organised according to these indices.\n",
    "\n",
    "Think of it like a dictionary where each word has a specific page number. The model learns that information about \"good\" is on page 382, information about \"movie\" is on page 1593, and so on. These \"page numbers\" (indices) must remain consistent for the weights to make sense.\n",
    "\n",
    "If you were to use a different vocabulary when creating your classifier:\n",
    ".The token \"good\" might now be on page 746 instead of 382\n",
    ".The weights the model learned during language model training were specifically tied to the old index (382)\n",
    "\n",
    "Now when the classifier sees \"good\" and looks up page 746, it finds weights that were meant for some completely different word\n",
    "\n",
    ">This mismatch would render the carefully fine-tuned language model weights essentially random from the perspective of the classifier."
   ]
  },
  {
   "cell_type": "code",
   "execution_count": 21,
   "id": "3976ca6b",
   "metadata": {
    "_kg_hide-output": true,
    "execution": {
     "iopub.execute_input": "2025-03-19T04:48:23.241149Z",
     "iopub.status.busy": "2025-03-19T04:48:23.240268Z",
     "iopub.status.idle": "2025-03-19T04:48:23.731089Z",
     "shell.execute_reply": "2025-03-19T04:48:23.730227Z"
    },
    "papermill": {
     "duration": 0.508069,
     "end_time": "2025-03-19T04:48:23.733289",
     "exception": false,
     "start_time": "2025-03-19T04:48:23.225220",
     "status": "completed"
    },
    "tags": []
   },
   "outputs": [],
   "source": [
    "#| error: false\n",
    "learn = text_classifier_learner(dls_clas, AWD_LSTM, drop_mult=0.5, metrics=accuracy)"
   ]
  },
  {
   "cell_type": "markdown",
   "id": "95d5ba5f",
   "metadata": {
    "papermill": {
     "duration": 0.013659,
     "end_time": "2025-03-19T04:48:23.760958",
     "exception": false,
     "start_time": "2025-03-19T04:48:23.747299",
     "status": "completed"
    },
    "tags": []
   },
   "source": [
    "We then define our text classifier as shown above. Before training it, we load in the previous encoder."
   ]
  },
  {
   "cell_type": "code",
   "execution_count": 22,
   "id": "4bc48a9d",
   "metadata": {
    "execution": {
     "iopub.execute_input": "2025-03-19T04:48:23.790078Z",
     "iopub.status.busy": "2025-03-19T04:48:23.789254Z",
     "iopub.status.idle": "2025-03-19T04:48:23.794126Z",
     "shell.execute_reply": "2025-03-19T04:48:23.793252Z"
    },
    "papermill": {
     "duration": 0.021662,
     "end_time": "2025-03-19T04:48:23.796044",
     "exception": false,
     "start_time": "2025-03-19T04:48:23.774382",
     "status": "completed"
    },
    "tags": []
   },
   "outputs": [],
   "source": [
    "#| include: false\n",
    "#from pathlib import Path\n",
    "#learn.path = Path('/kaggle/working')"
   ]
  },
  {
   "cell_type": "code",
   "execution_count": 23,
   "id": "a5cccc42",
   "metadata": {
    "execution": {
     "iopub.execute_input": "2025-03-19T04:48:23.824528Z",
     "iopub.status.busy": "2025-03-19T04:48:23.823614Z",
     "iopub.status.idle": "2025-03-19T04:48:23.890673Z",
     "shell.execute_reply": "2025-03-19T04:48:23.889502Z"
    },
    "papermill": {
     "duration": 0.08367,
     "end_time": "2025-03-19T04:48:23.892743",
     "exception": false,
     "start_time": "2025-03-19T04:48:23.809073",
     "status": "completed"
    },
    "tags": []
   },
   "outputs": [],
   "source": [
    "#| error: false\n",
    "learn = learn.load_encoder('finetuned')"
   ]
  },
  {
   "cell_type": "markdown",
   "id": "3362bebc",
   "metadata": {
    "papermill": {
     "duration": 0.013721,
     "end_time": "2025-03-19T04:48:23.920085",
     "exception": false,
     "start_time": "2025-03-19T04:48:23.906364",
     "status": "completed"
    },
    "tags": []
   },
   "source": [
    "#### Discriminative Learning Rates & Gradual Unfreezing\n",
    "\n",
    "**Discriminative learning** rates means using different learning rates for different layers of the model. \n",
    "\n",
    "For example, earlier layers (closer to the input) might get smaller learning rates, while the later layers (closer to the output) get larger learning rates.\n",
    "\n",
    "**Gradual unfreezing** is a technique where layers of the model are unfrozen (made trainable) incrementally during fine-tuning. \n",
    "Instead of unfreezing all layers at once, you start by unfreezing only the topmost layers (closest to the output) and train them first.\n",
    "\n",
    "Unlike computer vision applications where we unfreeze the model at once, gradual unfreezing has been shown to improve performance for NLP models.\n",
    "\n",
    "\n"
   ]
  },
  {
   "cell_type": "code",
   "execution_count": 24,
   "id": "b9fb5bf0",
   "metadata": {
    "execution": {
     "iopub.execute_input": "2025-03-19T04:48:23.950105Z",
     "iopub.status.busy": "2025-03-19T04:48:23.949218Z",
     "iopub.status.idle": "2025-03-19T04:48:23.955598Z",
     "shell.execute_reply": "2025-03-19T04:48:23.954701Z"
    },
    "papermill": {
     "duration": 0.023784,
     "end_time": "2025-03-19T04:48:23.957503",
     "exception": false,
     "start_time": "2025-03-19T04:48:23.933719",
     "status": "completed"
    },
    "tags": []
   },
   "outputs": [
    {
     "data": {
      "text/plain": [
       "944"
      ]
     },
     "execution_count": 24,
     "metadata": {},
     "output_type": "execute_result"
    }
   ],
   "source": [
    "len(dls_lm.vocab)"
   ]
  },
  {
   "cell_type": "code",
   "execution_count": 25,
   "id": "89387a7c",
   "metadata": {
    "execution": {
     "iopub.execute_input": "2025-03-19T04:48:23.987480Z",
     "iopub.status.busy": "2025-03-19T04:48:23.986653Z",
     "iopub.status.idle": "2025-03-19T04:48:25.597416Z",
     "shell.execute_reply": "2025-03-19T04:48:25.596275Z"
    },
    "papermill": {
     "duration": 1.627888,
     "end_time": "2025-03-19T04:48:25.599341",
     "exception": false,
     "start_time": "2025-03-19T04:48:23.971453",
     "status": "completed"
    },
    "tags": []
   },
   "outputs": [
    {
     "data": {
      "text/html": [
       "\n",
       "<style>\n",
       "    /* Turns off some styling */\n",
       "    progress {\n",
       "        /* gets rid of default border in Firefox and Opera. */\n",
       "        border: none;\n",
       "        /* Needs to be in here for Safari polyfill so background images work as expected. */\n",
       "        background-size: auto;\n",
       "    }\n",
       "    progress:not([value]), progress:not([value])::-webkit-progress-bar {\n",
       "        background: repeating-linear-gradient(45deg, #7e7e7e, #7e7e7e 10px, #5c5c5c 10px, #5c5c5c 20px);\n",
       "    }\n",
       "    .progress-bar-interrupted, .progress-bar-interrupted::-webkit-progress-bar {\n",
       "        background: #F44336;\n",
       "    }\n",
       "</style>\n"
      ],
      "text/plain": [
       "<IPython.core.display.HTML object>"
      ]
     },
     "metadata": {},
     "output_type": "display_data"
    },
    {
     "data": {
      "text/html": [
       "<table border=\"1\" class=\"dataframe\">\n",
       "  <thead>\n",
       "    <tr style=\"text-align: left;\">\n",
       "      <th>epoch</th>\n",
       "      <th>train_loss</th>\n",
       "      <th>valid_loss</th>\n",
       "      <th>accuracy</th>\n",
       "      <th>time</th>\n",
       "    </tr>\n",
       "  </thead>\n",
       "  <tbody>\n",
       "    <tr>\n",
       "      <td>0</td>\n",
       "      <td>2.321553</td>\n",
       "      <td>2.321026</td>\n",
       "      <td>0.475000</td>\n",
       "      <td>00:01</td>\n",
       "    </tr>\n",
       "  </tbody>\n",
       "</table>"
      ],
      "text/plain": [
       "<IPython.core.display.HTML object>"
      ]
     },
     "metadata": {},
     "output_type": "display_data"
    }
   ],
   "source": [
    "#| error: false\n",
    "learn.fit_one_cycle(1, 2e-2)"
   ]
  },
  {
   "cell_type": "code",
   "execution_count": 26,
   "id": "f3eaf1c1",
   "metadata": {
    "execution": {
     "iopub.execute_input": "2025-03-19T04:48:25.629349Z",
     "iopub.status.busy": "2025-03-19T04:48:25.628825Z",
     "iopub.status.idle": "2025-03-19T04:48:27.048246Z",
     "shell.execute_reply": "2025-03-19T04:48:27.047271Z"
    },
    "papermill": {
     "duration": 1.436935,
     "end_time": "2025-03-19T04:48:27.050337",
     "exception": false,
     "start_time": "2025-03-19T04:48:25.613402",
     "status": "completed"
    },
    "tags": []
   },
   "outputs": [
    {
     "data": {
      "text/html": [
       "\n",
       "<style>\n",
       "    /* Turns off some styling */\n",
       "    progress {\n",
       "        /* gets rid of default border in Firefox and Opera. */\n",
       "        border: none;\n",
       "        /* Needs to be in here for Safari polyfill so background images work as expected. */\n",
       "        background-size: auto;\n",
       "    }\n",
       "    progress:not([value]), progress:not([value])::-webkit-progress-bar {\n",
       "        background: repeating-linear-gradient(45deg, #7e7e7e, #7e7e7e 10px, #5c5c5c 10px, #5c5c5c 20px);\n",
       "    }\n",
       "    .progress-bar-interrupted, .progress-bar-interrupted::-webkit-progress-bar {\n",
       "        background: #F44336;\n",
       "    }\n",
       "</style>\n"
      ],
      "text/plain": [
       "<IPython.core.display.HTML object>"
      ]
     },
     "metadata": {},
     "output_type": "display_data"
    },
    {
     "data": {
      "text/html": [
       "<table border=\"1\" class=\"dataframe\">\n",
       "  <thead>\n",
       "    <tr style=\"text-align: left;\">\n",
       "      <th>epoch</th>\n",
       "      <th>train_loss</th>\n",
       "      <th>valid_loss</th>\n",
       "      <th>accuracy</th>\n",
       "      <th>time</th>\n",
       "    </tr>\n",
       "  </thead>\n",
       "  <tbody>\n",
       "    <tr>\n",
       "      <td>0</td>\n",
       "      <td>1.472523</td>\n",
       "      <td>1.618218</td>\n",
       "      <td>0.650000</td>\n",
       "      <td>00:01</td>\n",
       "    </tr>\n",
       "  </tbody>\n",
       "</table>"
      ],
      "text/plain": [
       "<IPython.core.display.HTML object>"
      ]
     },
     "metadata": {},
     "output_type": "display_data"
    }
   ],
   "source": [
    "#| error: false\n",
    "learn.freeze_to(-2)\n",
    "learn.fit_one_cycle(1, slice(1e-2/(2.6**4),1e-2))"
   ]
  },
  {
   "cell_type": "code",
   "execution_count": 27,
   "id": "f37494f8",
   "metadata": {
    "execution": {
     "iopub.execute_input": "2025-03-19T04:48:27.080856Z",
     "iopub.status.busy": "2025-03-19T04:48:27.080493Z",
     "iopub.status.idle": "2025-03-19T04:48:30.847285Z",
     "shell.execute_reply": "2025-03-19T04:48:30.846232Z"
    },
    "papermill": {
     "duration": 3.784042,
     "end_time": "2025-03-19T04:48:30.849264",
     "exception": false,
     "start_time": "2025-03-19T04:48:27.065222",
     "status": "completed"
    },
    "tags": []
   },
   "outputs": [
    {
     "data": {
      "text/html": [
       "\n",
       "<style>\n",
       "    /* Turns off some styling */\n",
       "    progress {\n",
       "        /* gets rid of default border in Firefox and Opera. */\n",
       "        border: none;\n",
       "        /* Needs to be in here for Safari polyfill so background images work as expected. */\n",
       "        background-size: auto;\n",
       "    }\n",
       "    progress:not([value]), progress:not([value])::-webkit-progress-bar {\n",
       "        background: repeating-linear-gradient(45deg, #7e7e7e, #7e7e7e 10px, #5c5c5c 10px, #5c5c5c 20px);\n",
       "    }\n",
       "    .progress-bar-interrupted, .progress-bar-interrupted::-webkit-progress-bar {\n",
       "        background: #F44336;\n",
       "    }\n",
       "</style>\n"
      ],
      "text/plain": [
       "<IPython.core.display.HTML object>"
      ]
     },
     "metadata": {},
     "output_type": "display_data"
    },
    {
     "data": {
      "text/html": [
       "<table border=\"1\" class=\"dataframe\">\n",
       "  <thead>\n",
       "    <tr style=\"text-align: left;\">\n",
       "      <th>epoch</th>\n",
       "      <th>train_loss</th>\n",
       "      <th>valid_loss</th>\n",
       "      <th>accuracy</th>\n",
       "      <th>time</th>\n",
       "    </tr>\n",
       "  </thead>\n",
       "  <tbody>\n",
       "    <tr>\n",
       "      <td>0</td>\n",
       "      <td>1.113426</td>\n",
       "      <td>1.222948</td>\n",
       "      <td>0.737500</td>\n",
       "      <td>00:02</td>\n",
       "    </tr>\n",
       "    <tr>\n",
       "      <td>1</td>\n",
       "      <td>1.053115</td>\n",
       "      <td>0.926983</td>\n",
       "      <td>0.804167</td>\n",
       "      <td>00:02</td>\n",
       "    </tr>\n",
       "    <tr>\n",
       "      <td>2</td>\n",
       "      <td>0.977086</td>\n",
       "      <td>0.776898</td>\n",
       "      <td>0.816667</td>\n",
       "      <td>00:02</td>\n",
       "    </tr>\n",
       "    <tr>\n",
       "      <td>3</td>\n",
       "      <td>0.886906</td>\n",
       "      <td>0.666213</td>\n",
       "      <td>0.845833</td>\n",
       "      <td>00:02</td>\n",
       "    </tr>\n",
       "    <tr>\n",
       "      <td>4</td>\n",
       "      <td>0.796531</td>\n",
       "      <td>0.585332</td>\n",
       "      <td>0.862500</td>\n",
       "      <td>00:02</td>\n",
       "    </tr>\n",
       "    <tr>\n",
       "      <td>5</td>\n",
       "      <td>0.705722</td>\n",
       "      <td>0.525745</td>\n",
       "      <td>0.875000</td>\n",
       "      <td>00:02</td>\n",
       "    </tr>\n",
       "    <tr>\n",
       "      <td>6</td>\n",
       "      <td>0.627141</td>\n",
       "      <td>0.489742</td>\n",
       "      <td>0.887500</td>\n",
       "      <td>00:02</td>\n",
       "    </tr>\n",
       "    <tr>\n",
       "      <td>7</td>\n",
       "      <td>0.554622</td>\n",
       "      <td>0.462450</td>\n",
       "      <td>0.895833</td>\n",
       "      <td>00:02</td>\n",
       "    </tr>\n",
       "    <tr>\n",
       "      <td>8</td>\n",
       "      <td>0.501509</td>\n",
       "      <td>0.441437</td>\n",
       "      <td>0.895833</td>\n",
       "      <td>00:02</td>\n",
       "    </tr>\n",
       "    <tr>\n",
       "      <td>9</td>\n",
       "      <td>0.457569</td>\n",
       "      <td>0.432032</td>\n",
       "      <td>0.900000</td>\n",
       "      <td>00:02</td>\n",
       "    </tr>\n",
       "    <tr>\n",
       "      <td>10</td>\n",
       "      <td>0.422141</td>\n",
       "      <td>0.426882</td>\n",
       "      <td>0.900000</td>\n",
       "      <td>00:02</td>\n",
       "    </tr>\n",
       "    <tr>\n",
       "      <td>11</td>\n",
       "      <td>0.397170</td>\n",
       "      <td>0.433749</td>\n",
       "      <td>0.895833</td>\n",
       "      <td>00:02</td>\n",
       "    </tr>\n",
       "  </tbody>\n",
       "</table>"
      ],
      "text/plain": [
       "<IPython.core.display.HTML object>"
      ]
     },
     "metadata": {},
     "output_type": "display_data"
    }
   ],
   "source": [
    "learn.unfreeze()\n",
    "learn.fit_one_cycle(12, slice(1e-3/(2.6**4),1e-3))"
   ]
  },
  {
   "cell_type": "code",
   "execution_count": 28,
   "id": "adb0b245",
   "metadata": {
    "execution": {
     "iopub.execute_input": "2025-03-19T04:48:30.881191Z",
     "iopub.status.busy": "2025-03-19T04:48:30.880497Z",
     "iopub.status.idle": "2025-03-19T04:48:30.933078Z",
     "shell.execute_reply": "2025-03-19T04:48:30.932083Z"
    },
    "papermill": {
     "duration": 0.07004,
     "end_time": "2025-03-19T04:48:30.935098",
     "exception": false,
     "start_time": "2025-03-19T04:48:30.865058",
     "status": "completed"
    },
    "tags": []
   },
   "outputs": [
    {
     "data": {
      "text/html": [
       "\n",
       "<style>\n",
       "    /* Turns off some styling */\n",
       "    progress {\n",
       "        /* gets rid of default border in Firefox and Opera. */\n",
       "        border: none;\n",
       "        /* Needs to be in here for Safari polyfill so background images work as expected. */\n",
       "        background-size: auto;\n",
       "    }\n",
       "    progress:not([value]), progress:not([value])::-webkit-progress-bar {\n",
       "        background: repeating-linear-gradient(45deg, #7e7e7e, #7e7e7e 10px, #5c5c5c 10px, #5c5c5c 20px);\n",
       "    }\n",
       "    .progress-bar-interrupted, .progress-bar-interrupted::-webkit-progress-bar {\n",
       "        background: #F44336;\n",
       "    }\n",
       "</style>\n"
      ],
      "text/plain": [
       "<IPython.core.display.HTML object>"
      ]
     },
     "metadata": {},
     "output_type": "display_data"
    },
    {
     "data": {
      "text/html": [],
      "text/plain": [
       "<IPython.core.display.HTML object>"
      ]
     },
     "metadata": {},
     "output_type": "display_data"
    },
    {
     "data": {
      "text/plain": [
       "('Typhoid',\n",
       " tensor(16),\n",
       " tensor([0.0032, 0.0312, 0.0315, 0.0267, 0.0032, 0.0082, 0.0466, 0.0522, 0.0044,\n",
       "         0.1089, 0.0058, 0.0142, 0.0568, 0.1298, 0.0267, 0.0030, 0.3377, 0.0080,\n",
       "         0.0047, 0.0078, 0.0069, 0.0212, 0.0460, 0.0152]))"
      ]
     },
     "execution_count": 28,
     "metadata": {},
     "output_type": "execute_result"
    }
   ],
   "source": [
    "learn.predict(\"I am having a running stomach, fever, general body weakness and have been getting bitten by mosquitoes often\")"
   ]
  },
  {
   "cell_type": "code",
   "execution_count": 29,
   "id": "fb76c7f0",
   "metadata": {},
   "outputs": [],
   "source": [
    "def get_top_3_predictions(text, learn):\n",
    "    # Get prediction and probabilities\n",
    "    _, _, probs = learn.predict(text)\n",
    "    \n",
    "    # Get the disease labels vocabulary (second list in vocab)\n",
    "    disease_vocab = learn.dls.vocab[1]  # Access the disease labels\n",
    "    \n",
    "    # Get number of classes\n",
    "    n_classes = len(disease_vocab)\n",
    "    \n",
    "    # Get indices of top 3 (or fewer) probabilities\n",
    "    n_preds = min(3, n_classes)\n",
    "    top_k_indices = probs.argsort(descending=True)[:n_preds]\n",
    "    \n",
    "    # Get the actual labels and their probabilities\n",
    "    predictions = []\n",
    "    for idx in top_k_indices:\n",
    "        label = disease_vocab[int(idx)]\n",
    "        probability = float(probs[idx])\n",
    "        predictions.append((label, probability))\n",
    "    \n",
    "    return predictions\n",
    "\n",
    "# Function to format and display the predictions nicely\n",
    "def display_predictions(predictions):\n",
    "    for i, (disease, prob) in enumerate(predictions, 1):\n",
    "        print(f\"{i}. {disease}: {prob:.3f}\")"
   ]
  },
  {
   "cell_type": "code",
   "execution_count": 30,
   "id": "4672eb9f",
   "metadata": {},
   "outputs": [
    {
     "data": {
      "text/html": [
       "\n",
       "<style>\n",
       "    /* Turns off some styling */\n",
       "    progress {\n",
       "        /* gets rid of default border in Firefox and Opera. */\n",
       "        border: none;\n",
       "        /* Needs to be in here for Safari polyfill so background images work as expected. */\n",
       "        background-size: auto;\n",
       "    }\n",
       "    progress:not([value]), progress:not([value])::-webkit-progress-bar {\n",
       "        background: repeating-linear-gradient(45deg, #7e7e7e, #7e7e7e 10px, #5c5c5c 10px, #5c5c5c 20px);\n",
       "    }\n",
       "    .progress-bar-interrupted, .progress-bar-interrupted::-webkit-progress-bar {\n",
       "        background: #F44336;\n",
       "    }\n",
       "</style>\n"
      ],
      "text/plain": [
       "<IPython.core.display.HTML object>"
      ]
     },
     "metadata": {},
     "output_type": "display_data"
    },
    {
     "data": {
      "text/html": [],
      "text/plain": [
       "<IPython.core.display.HTML object>"
      ]
     },
     "metadata": {},
     "output_type": "display_data"
    },
    {
     "name": "stdout",
     "output_type": "stream",
     "text": [
      "\n",
      "Top 3 Predictions:\n",
      "1. Typhoid: 0.338\n",
      "2. Migraine: 0.130\n",
      "3. Hypertension: 0.109\n"
     ]
    }
   ],
   "source": [
    "test_text = \"I am having a running stomach, fever, general body weakness and have been getting bitten by mosquitoes often\"\n",
    "predictions = get_top_3_predictions(test_text, learn)\n",
    "print(\"\\nTop 3 Predictions:\")\n",
    "display_predictions(predictions)"
   ]
  },
  {
   "cell_type": "code",
   "execution_count": 31,
   "id": "dee06882",
   "metadata": {
    "execution": {
     "iopub.execute_input": "2025-03-19T04:48:30.966500Z",
     "iopub.status.busy": "2025-03-19T04:48:30.965712Z",
     "iopub.status.idle": "2025-03-19T04:48:53.652544Z",
     "shell.execute_reply": "2025-03-19T04:48:53.651400Z"
    },
    "papermill": {
     "duration": 22.70504,
     "end_time": "2025-03-19T04:48:53.655039",
     "exception": false,
     "start_time": "2025-03-19T04:48:30.949999",
     "status": "completed"
    },
    "scrolled": true,
    "tags": []
   },
   "outputs": [
    {
     "data": {
      "text/html": [
       "\n",
       "<style>\n",
       "    /* Turns off some styling */\n",
       "    progress {\n",
       "        /* gets rid of default border in Firefox and Opera. */\n",
       "        border: none;\n",
       "        /* Needs to be in here for Safari polyfill so background images work as expected. */\n",
       "        background-size: auto;\n",
       "    }\n",
       "    progress:not([value]), progress:not([value])::-webkit-progress-bar {\n",
       "        background: repeating-linear-gradient(45deg, #7e7e7e, #7e7e7e 10px, #5c5c5c 10px, #5c5c5c 20px);\n",
       "    }\n",
       "    .progress-bar-interrupted, .progress-bar-interrupted::-webkit-progress-bar {\n",
       "        background: #F44336;\n",
       "    }\n",
       "</style>\n"
      ],
      "text/plain": [
       "<IPython.core.display.HTML object>"
      ]
     },
     "metadata": {},
     "output_type": "display_data"
    },
    {
     "data": {
      "text/html": [],
      "text/plain": [
       "<IPython.core.display.HTML object>"
      ]
     },
     "metadata": {},
     "output_type": "display_data"
    },
    {
     "data": {
      "text/html": [
       "\n",
       "<style>\n",
       "    /* Turns off some styling */\n",
       "    progress {\n",
       "        /* gets rid of default border in Firefox and Opera. */\n",
       "        border: none;\n",
       "        /* Needs to be in here for Safari polyfill so background images work as expected. */\n",
       "        background-size: auto;\n",
       "    }\n",
       "    progress:not([value]), progress:not([value])::-webkit-progress-bar {\n",
       "        background: repeating-linear-gradient(45deg, #7e7e7e, #7e7e7e 10px, #5c5c5c 10px, #5c5c5c 20px);\n",
       "    }\n",
       "    .progress-bar-interrupted, .progress-bar-interrupted::-webkit-progress-bar {\n",
       "        background: #F44336;\n",
       "    }\n",
       "</style>\n"
      ],
      "text/plain": [
       "<IPython.core.display.HTML object>"
      ]
     },
     "metadata": {},
     "output_type": "display_data"
    },
    {
     "data": {
      "text/html": [
       "<table border=\"1\" class=\"dataframe\">\n",
       "  <thead>\n",
       "    <tr style=\"text-align: left;\">\n",
       "      <th>epoch</th>\n",
       "      <th>train_loss</th>\n",
       "      <th>valid_loss</th>\n",
       "      <th>accuracy</th>\n",
       "      <th>perplexity</th>\n",
       "      <th>time</th>\n",
       "    </tr>\n",
       "  </thead>\n",
       "  <tbody>\n",
       "    <tr>\n",
       "      <td>0</td>\n",
       "      <td>4.342140</td>\n",
       "      <td>3.763779</td>\n",
       "      <td>0.312211</td>\n",
       "      <td>43.111023</td>\n",
       "      <td>00:01</td>\n",
       "    </tr>\n",
       "  </tbody>\n",
       "</table>"
      ],
      "text/plain": [
       "<IPython.core.display.HTML object>"
      ]
     },
     "metadata": {},
     "output_type": "display_data"
    },
    {
     "data": {
      "text/html": [
       "\n",
       "<style>\n",
       "    /* Turns off some styling */\n",
       "    progress {\n",
       "        /* gets rid of default border in Firefox and Opera. */\n",
       "        border: none;\n",
       "        /* Needs to be in here for Safari polyfill so background images work as expected. */\n",
       "        background-size: auto;\n",
       "    }\n",
       "    progress:not([value]), progress:not([value])::-webkit-progress-bar {\n",
       "        background: repeating-linear-gradient(45deg, #7e7e7e, #7e7e7e 10px, #5c5c5c 10px, #5c5c5c 20px);\n",
       "    }\n",
       "    .progress-bar-interrupted, .progress-bar-interrupted::-webkit-progress-bar {\n",
       "        background: #F44336;\n",
       "    }\n",
       "</style>\n"
      ],
      "text/plain": [
       "<IPython.core.display.HTML object>"
      ]
     },
     "metadata": {},
     "output_type": "display_data"
    },
    {
     "data": {
      "text/html": [
       "<table border=\"1\" class=\"dataframe\">\n",
       "  <thead>\n",
       "    <tr style=\"text-align: left;\">\n",
       "      <th>epoch</th>\n",
       "      <th>train_loss</th>\n",
       "      <th>valid_loss</th>\n",
       "      <th>accuracy</th>\n",
       "      <th>perplexity</th>\n",
       "      <th>time</th>\n",
       "    </tr>\n",
       "  </thead>\n",
       "  <tbody>\n",
       "    <tr>\n",
       "      <td>0</td>\n",
       "      <td>3.574306</td>\n",
       "      <td>3.080254</td>\n",
       "      <td>0.364077</td>\n",
       "      <td>21.763926</td>\n",
       "      <td>00:01</td>\n",
       "    </tr>\n",
       "    <tr>\n",
       "      <td>1</td>\n",
       "      <td>3.259420</td>\n",
       "      <td>2.711399</td>\n",
       "      <td>0.419850</td>\n",
       "      <td>15.050314</td>\n",
       "      <td>00:01</td>\n",
       "    </tr>\n",
       "    <tr>\n",
       "      <td>2</td>\n",
       "      <td>3.021458</td>\n",
       "      <td>2.503954</td>\n",
       "      <td>0.451823</td>\n",
       "      <td>12.230761</td>\n",
       "      <td>00:01</td>\n",
       "    </tr>\n",
       "    <tr>\n",
       "      <td>3</td>\n",
       "      <td>2.852709</td>\n",
       "      <td>2.416285</td>\n",
       "      <td>0.466869</td>\n",
       "      <td>11.204156</td>\n",
       "      <td>00:01</td>\n",
       "    </tr>\n",
       "    <tr>\n",
       "      <td>4</td>\n",
       "      <td>2.719086</td>\n",
       "      <td>2.394840</td>\n",
       "      <td>0.470124</td>\n",
       "      <td>10.966438</td>\n",
       "      <td>00:01</td>\n",
       "    </tr>\n",
       "  </tbody>\n",
       "</table>"
      ],
      "text/plain": [
       "<IPython.core.display.HTML object>"
      ]
     },
     "metadata": {},
     "output_type": "display_data"
    },
    {
     "data": {
      "text/html": [
       "\n",
       "<style>\n",
       "    /* Turns off some styling */\n",
       "    progress {\n",
       "        /* gets rid of default border in Firefox and Opera. */\n",
       "        border: none;\n",
       "        /* Needs to be in here for Safari polyfill so background images work as expected. */\n",
       "        background-size: auto;\n",
       "    }\n",
       "    progress:not([value]), progress:not([value])::-webkit-progress-bar {\n",
       "        background: repeating-linear-gradient(45deg, #7e7e7e, #7e7e7e 10px, #5c5c5c 10px, #5c5c5c 20px);\n",
       "    }\n",
       "    .progress-bar-interrupted, .progress-bar-interrupted::-webkit-progress-bar {\n",
       "        background: #F44336;\n",
       "    }\n",
       "</style>\n"
      ],
      "text/plain": [
       "<IPython.core.display.HTML object>"
      ]
     },
     "metadata": {},
     "output_type": "display_data"
    },
    {
     "data": {
      "text/html": [],
      "text/plain": [
       "<IPython.core.display.HTML object>"
      ]
     },
     "metadata": {},
     "output_type": "display_data"
    },
    {
     "data": {
      "text/html": [
       "\n",
       "<style>\n",
       "    /* Turns off some styling */\n",
       "    progress {\n",
       "        /* gets rid of default border in Firefox and Opera. */\n",
       "        border: none;\n",
       "        /* Needs to be in here for Safari polyfill so background images work as expected. */\n",
       "        background-size: auto;\n",
       "    }\n",
       "    progress:not([value]), progress:not([value])::-webkit-progress-bar {\n",
       "        background: repeating-linear-gradient(45deg, #7e7e7e, #7e7e7e 10px, #5c5c5c 10px, #5c5c5c 20px);\n",
       "    }\n",
       "    .progress-bar-interrupted, .progress-bar-interrupted::-webkit-progress-bar {\n",
       "        background: #F44336;\n",
       "    }\n",
       "</style>\n"
      ],
      "text/plain": [
       "<IPython.core.display.HTML object>"
      ]
     },
     "metadata": {},
     "output_type": "display_data"
    },
    {
     "data": {
      "text/html": [
       "<table border=\"1\" class=\"dataframe\">\n",
       "  <thead>\n",
       "    <tr style=\"text-align: left;\">\n",
       "      <th>epoch</th>\n",
       "      <th>train_loss</th>\n",
       "      <th>valid_loss</th>\n",
       "      <th>accuracy</th>\n",
       "      <th>time</th>\n",
       "    </tr>\n",
       "  </thead>\n",
       "  <tbody>\n",
       "    <tr>\n",
       "      <td>0</td>\n",
       "      <td>2.342310</td>\n",
       "      <td>2.315960</td>\n",
       "      <td>0.487500</td>\n",
       "      <td>00:01</td>\n",
       "    </tr>\n",
       "  </tbody>\n",
       "</table>"
      ],
      "text/plain": [
       "<IPython.core.display.HTML object>"
      ]
     },
     "metadata": {},
     "output_type": "display_data"
    },
    {
     "data": {
      "text/html": [
       "\n",
       "<style>\n",
       "    /* Turns off some styling */\n",
       "    progress {\n",
       "        /* gets rid of default border in Firefox and Opera. */\n",
       "        border: none;\n",
       "        /* Needs to be in here for Safari polyfill so background images work as expected. */\n",
       "        background-size: auto;\n",
       "    }\n",
       "    progress:not([value]), progress:not([value])::-webkit-progress-bar {\n",
       "        background: repeating-linear-gradient(45deg, #7e7e7e, #7e7e7e 10px, #5c5c5c 10px, #5c5c5c 20px);\n",
       "    }\n",
       "    .progress-bar-interrupted, .progress-bar-interrupted::-webkit-progress-bar {\n",
       "        background: #F44336;\n",
       "    }\n",
       "</style>\n"
      ],
      "text/plain": [
       "<IPython.core.display.HTML object>"
      ]
     },
     "metadata": {},
     "output_type": "display_data"
    },
    {
     "data": {
      "text/html": [
       "<table border=\"1\" class=\"dataframe\">\n",
       "  <thead>\n",
       "    <tr style=\"text-align: left;\">\n",
       "      <th>epoch</th>\n",
       "      <th>train_loss</th>\n",
       "      <th>valid_loss</th>\n",
       "      <th>accuracy</th>\n",
       "      <th>time</th>\n",
       "    </tr>\n",
       "  </thead>\n",
       "  <tbody>\n",
       "    <tr>\n",
       "      <td>0</td>\n",
       "      <td>1.518638</td>\n",
       "      <td>1.517010</td>\n",
       "      <td>0.687500</td>\n",
       "      <td>00:01</td>\n",
       "    </tr>\n",
       "  </tbody>\n",
       "</table>"
      ],
      "text/plain": [
       "<IPython.core.display.HTML object>"
      ]
     },
     "metadata": {},
     "output_type": "display_data"
    },
    {
     "data": {
      "text/html": [
       "\n",
       "<style>\n",
       "    /* Turns off some styling */\n",
       "    progress {\n",
       "        /* gets rid of default border in Firefox and Opera. */\n",
       "        border: none;\n",
       "        /* Needs to be in here for Safari polyfill so background images work as expected. */\n",
       "        background-size: auto;\n",
       "    }\n",
       "    progress:not([value]), progress:not([value])::-webkit-progress-bar {\n",
       "        background: repeating-linear-gradient(45deg, #7e7e7e, #7e7e7e 10px, #5c5c5c 10px, #5c5c5c 20px);\n",
       "    }\n",
       "    .progress-bar-interrupted, .progress-bar-interrupted::-webkit-progress-bar {\n",
       "        background: #F44336;\n",
       "    }\n",
       "</style>\n"
      ],
      "text/plain": [
       "<IPython.core.display.HTML object>"
      ]
     },
     "metadata": {},
     "output_type": "display_data"
    },
    {
     "data": {
      "text/html": [
       "<table border=\"1\" class=\"dataframe\">\n",
       "  <thead>\n",
       "    <tr style=\"text-align: left;\">\n",
       "      <th>epoch</th>\n",
       "      <th>train_loss</th>\n",
       "      <th>valid_loss</th>\n",
       "      <th>accuracy</th>\n",
       "      <th>time</th>\n",
       "    </tr>\n",
       "  </thead>\n",
       "  <tbody>\n",
       "    <tr>\n",
       "      <td>0</td>\n",
       "      <td>1.108784</td>\n",
       "      <td>1.062216</td>\n",
       "      <td>0.775000</td>\n",
       "      <td>00:02</td>\n",
       "    </tr>\n",
       "    <tr>\n",
       "      <td>1</td>\n",
       "      <td>1.005404</td>\n",
       "      <td>0.882509</td>\n",
       "      <td>0.795833</td>\n",
       "      <td>00:02</td>\n",
       "    </tr>\n",
       "  </tbody>\n",
       "</table>"
      ],
      "text/plain": [
       "<IPython.core.display.HTML object>"
      ]
     },
     "metadata": {},
     "output_type": "display_data"
    },
    {
     "data": {
      "text/html": [
       "\n",
       "<style>\n",
       "    /* Turns off some styling */\n",
       "    progress {\n",
       "        /* gets rid of default border in Firefox and Opera. */\n",
       "        border: none;\n",
       "        /* Needs to be in here for Safari polyfill so background images work as expected. */\n",
       "        background-size: auto;\n",
       "    }\n",
       "    progress:not([value]), progress:not([value])::-webkit-progress-bar {\n",
       "        background: repeating-linear-gradient(45deg, #7e7e7e, #7e7e7e 10px, #5c5c5c 10px, #5c5c5c 20px);\n",
       "    }\n",
       "    .progress-bar-interrupted, .progress-bar-interrupted::-webkit-progress-bar {\n",
       "        background: #F44336;\n",
       "    }\n",
       "</style>\n"
      ],
      "text/plain": [
       "<IPython.core.display.HTML object>"
      ]
     },
     "metadata": {},
     "output_type": "display_data"
    },
    {
     "data": {
      "text/html": [],
      "text/plain": [
       "<IPython.core.display.HTML object>"
      ]
     },
     "metadata": {},
     "output_type": "display_data"
    },
    {
     "data": {
      "text/plain": [
       "('Hypertension',\n",
       " tensor(9),\n",
       " tensor([0.0016, 0.0286, 0.1101, 0.0219, 0.0008, 0.0280, 0.0067, 0.0425, 0.0030,\n",
       "         0.1640, 0.0041, 0.0179, 0.0178, 0.0495, 0.0143, 0.0027, 0.0837, 0.0136,\n",
       "         0.0235, 0.0946, 0.0202, 0.1224, 0.0270, 0.1016]))"
      ]
     },
     "execution_count": 31,
     "metadata": {},
     "output_type": "execute_result"
    }
   ],
   "source": [
    "#| code-fold: true\n",
    "#| code-summary: \"Click to see full code in one cell\"\n",
    "#| error: false\n",
    "#| echo false\n",
    "\n",
    "#path = Path('/kaggle/input/symptoms-disease-no-id')\n",
    "#symptom_df = pd.read_csv(path_lm/'symptom_synth.csv',index_col=0)\n",
    "symptom_df = pd.read_csv(path/'symptom_no_id.csv')\n",
    "sd_df = pd.read_csv(path/'symptom_disease_no_id_col.csv')\n",
    "dls_lm = TextDataLoaders.from_df(symptom_df, path=path,text_col='text', is_lm=True, valid_pct=0.2)\n",
    "learn = language_model_learner(dls_lm, AWD_LSTM, metrics=[accuracy, Perplexity()], path=path, wd=0.1).to_fp16()\n",
    "learn.fit_one_cycle(1, 1e-2)\n",
    "# Create a directory to save the model\n",
    "#os.makedirs('/kaggle/working/models', exist_ok=True)\n",
    "# Set the model directory for the learner\n",
    "#learn.model_dir = '/kaggle/working/models'\n",
    "# Now save the model\n",
    "learn.save('1epoch')\n",
    "learn = learn.load('1epoch')\n",
    "learn.unfreeze()\n",
    "learn.fit_one_cycle(5, 1e-3)\n",
    "# Now save the model\n",
    "learn.save_encoder('finetuned')\n",
    "\n",
    "\n",
    "#finetuning the classifier\n",
    "learn = text_classifier_learner(dls_clas, AWD_LSTM, drop_mult=0.5, metrics=accuracy)\n",
    "dls_clas = TextDataLoaders.from_df(sd_df, path=path,text_col='text',label_col='label', text_vocab=dls_lm.vocab)\n",
    "#learn.path = Path('/kaggle/working')\n",
    "learn = learn.load_encoder('finetuned')\n",
    "learn.fit_one_cycle(1, 2e-2)\n",
    "learn.freeze_to(-2)\n",
    "learn.fit_one_cycle(1, slice(1e-2/(2.6**4),1e-2))\n",
    "learn.unfreeze()\n",
    "learn.fit_one_cycle(2, slice(1e-3/(2.6**4),1e-3))\n",
    "learn.predict(\"I am having a running stomach, fever, general body weakness and have been getting bitten by mosquitoes often\")"
   ]
  },
  {
   "cell_type": "markdown",
   "id": "7d816ee5",
   "metadata": {
    "papermill": {
     "duration": 0.016019,
     "end_time": "2025-03-19T04:48:53.689157",
     "exception": false,
     "start_time": "2025-03-19T04:48:53.673138",
     "status": "completed"
    },
    "tags": []
   },
   "source": [
    "# References\n",
    "\n",
    "[Fastai Documentation - Text Transfer Learning](https://docs.fast.ai/tutorial.text.html#the-ulmfit-approach)\n",
    "\n",
    "The dataset for this competition was gotten from [here](https://www.kaggle.com/datasets/niyarrbarman/symptom2disease)\n",
    "\n",
    "This notebook which uploaded to github was published using [nbsanity](https://www.answer.ai/posts/2024-12-13-nbsanity.html)\n",
    "\n",
    "## Next Steps\n",
    "\n",
    "* Using clinical guidelines as a medical corpus source.\n",
    "\n",
    "* Implementing a newer architecture, e.g., replacing AWD_LSTM with transformers.\n",
    "\n",
    "* Try out a RAG implementation \n",
    "\n",
    "* Finetune our own medical model\n",
    "\n",
    "* Adding reasoning\n",
    "\n",
    "* Building a UI\n"
   ]
  }
 ],
 "metadata": {
  "kaggle": {
   "accelerator": "gpu",
   "dataSources": [
    {
     "datasetId": 6869787,
     "sourceId": 11030552,
     "sourceType": "datasetVersion"
    }
   ],
   "dockerImageVersionId": 30787,
   "isGpuEnabled": true,
   "isInternetEnabled": true,
   "language": "python",
   "sourceType": "notebook"
  },
  "kernelspec": {
   "display_name": "Python 3",
   "language": "python",
   "name": "python3"
  },
  "language_info": {
   "codemirror_mode": {
    "name": "ipython",
    "version": 3
   },
   "file_extension": ".py",
   "mimetype": "text/x-python",
   "name": "python",
   "nbconvert_exporter": "python",
   "pygments_lexer": "ipython3",
   "version": "3.10.14"
  },
  "papermill": {
   "default_parameters": {},
   "duration": 127.859712,
   "end_time": "2025-03-19T04:48:56.341400",
   "environment_variables": {},
   "exception": null,
   "input_path": "__notebook__.ipynb",
   "output_path": "__notebook__.ipynb",
   "parameters": {},
   "start_time": "2025-03-19T04:46:48.481688",
   "version": "2.6.0"
  }
 },
 "nbformat": 4,
 "nbformat_minor": 5
}
